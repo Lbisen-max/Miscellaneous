{
 "cells": [
  {
   "cell_type": "code",
   "execution_count": 1,
   "metadata": {},
   "outputs": [],
   "source": [
    "import pandas as pd\n",
    "import numpy as np\n",
    "import seaborn as sns\n",
    "import matplotlib.pyplot as plt\n",
    "%matplotlib inline\n",
    "\n",
    "import warnings \n",
    "warnings.filterwarnings('ignore')"
   ]
  },
  {
   "cell_type": "code",
   "execution_count": 2,
   "metadata": {},
   "outputs": [],
   "source": [
    "df_flight = pd.read_csv(\"Flight_Data.csv\")"
   ]
  },
  {
   "cell_type": "code",
   "execution_count": 3,
   "metadata": {},
   "outputs": [
    {
     "data": {
      "text/html": [
       "<div>\n",
       "<style scoped>\n",
       "    .dataframe tbody tr th:only-of-type {\n",
       "        vertical-align: middle;\n",
       "    }\n",
       "\n",
       "    .dataframe tbody tr th {\n",
       "        vertical-align: top;\n",
       "    }\n",
       "\n",
       "    .dataframe thead th {\n",
       "        text-align: right;\n",
       "    }\n",
       "</style>\n",
       "<table border=\"1\" class=\"dataframe\">\n",
       "  <thead>\n",
       "    <tr style=\"text-align: right;\">\n",
       "      <th></th>\n",
       "      <th>Unnamed: 0</th>\n",
       "      <th>Airline</th>\n",
       "      <th>Departure</th>\n",
       "      <th>Arrival</th>\n",
       "      <th>Dep_time</th>\n",
       "      <th>Arr_time</th>\n",
       "      <th>Duration</th>\n",
       "      <th>Journey_Type</th>\n",
       "      <th>Price</th>\n",
       "    </tr>\n",
       "  </thead>\n",
       "  <tbody>\n",
       "    <tr>\n",
       "      <th>0</th>\n",
       "      <td>0</td>\n",
       "      <td>IndiGo</td>\n",
       "      <td>New Delhi</td>\n",
       "      <td>Varanasi</td>\n",
       "      <td>15:30</td>\n",
       "      <td>16:50</td>\n",
       "      <td>1h 20m</td>\n",
       "      <td>1 Stop</td>\n",
       "      <td>2,060</td>\n",
       "    </tr>\n",
       "    <tr>\n",
       "      <th>1</th>\n",
       "      <td>1</td>\n",
       "      <td>IndiGo</td>\n",
       "      <td>New Delhi</td>\n",
       "      <td>Varanasi</td>\n",
       "      <td>05:05</td>\n",
       "      <td>06:30</td>\n",
       "      <td>1h 25m</td>\n",
       "      <td>1 Stop</td>\n",
       "      <td>2,060</td>\n",
       "    </tr>\n",
       "    <tr>\n",
       "      <th>2</th>\n",
       "      <td>2</td>\n",
       "      <td>Go First</td>\n",
       "      <td>New Delhi</td>\n",
       "      <td>Varanasi</td>\n",
       "      <td>09:10</td>\n",
       "      <td>10:40</td>\n",
       "      <td>1h 30m</td>\n",
       "      <td>2 Stop(s)</td>\n",
       "      <td>2,060</td>\n",
       "    </tr>\n",
       "    <tr>\n",
       "      <th>3</th>\n",
       "      <td>3</td>\n",
       "      <td>IndiGo</td>\n",
       "      <td>New Delhi</td>\n",
       "      <td>Varanasi</td>\n",
       "      <td>17:45</td>\n",
       "      <td>19:20</td>\n",
       "      <td>1h 35m</td>\n",
       "      <td>1 Stop</td>\n",
       "      <td>2,060</td>\n",
       "    </tr>\n",
       "    <tr>\n",
       "      <th>4</th>\n",
       "      <td>4</td>\n",
       "      <td>SpiceJet</td>\n",
       "      <td>New Delhi</td>\n",
       "      <td>Varanasi</td>\n",
       "      <td>17:30</td>\n",
       "      <td>19:00</td>\n",
       "      <td>1h 30m</td>\n",
       "      <td>1 Stop</td>\n",
       "      <td>2,068</td>\n",
       "    </tr>\n",
       "  </tbody>\n",
       "</table>\n",
       "</div>"
      ],
      "text/plain": [
       "   Unnamed: 0   Airline  Departure   Arrival Dep_time Arr_time Duration  \\\n",
       "0           0    IndiGo  New Delhi  Varanasi    15:30    16:50   1h 20m   \n",
       "1           1    IndiGo  New Delhi  Varanasi    05:05    06:30   1h 25m   \n",
       "2           2  Go First  New Delhi  Varanasi    09:10    10:40   1h 30m   \n",
       "3           3    IndiGo  New Delhi  Varanasi    17:45    19:20   1h 35m   \n",
       "4           4  SpiceJet  New Delhi  Varanasi    17:30    19:00   1h 30m   \n",
       "\n",
       "  Journey_Type  Price  \n",
       "0       1 Stop  2,060  \n",
       "1       1 Stop  2,060  \n",
       "2    2 Stop(s)  2,060  \n",
       "3       1 Stop  2,060  \n",
       "4       1 Stop  2,068  "
      ]
     },
     "execution_count": 3,
     "metadata": {},
     "output_type": "execute_result"
    }
   ],
   "source": [
    "df_flight.head()"
   ]
  },
  {
   "cell_type": "code",
   "execution_count": 4,
   "metadata": {},
   "outputs": [
    {
     "data": {
      "text/plain": [
       "(1562, 9)"
      ]
     },
     "execution_count": 4,
     "metadata": {},
     "output_type": "execute_result"
    }
   ],
   "source": [
    "df_flight.shape"
   ]
  },
  {
   "cell_type": "code",
   "execution_count": 5,
   "metadata": {},
   "outputs": [
    {
     "name": "stdout",
     "output_type": "stream",
     "text": [
      "<class 'pandas.core.frame.DataFrame'>\n",
      "RangeIndex: 1562 entries, 0 to 1561\n",
      "Data columns (total 9 columns):\n",
      " #   Column        Non-Null Count  Dtype \n",
      "---  ------        --------------  ----- \n",
      " 0   Unnamed: 0    1562 non-null   int64 \n",
      " 1   Airline       1562 non-null   object\n",
      " 2   Departure     1562 non-null   object\n",
      " 3   Arrival       1562 non-null   object\n",
      " 4   Dep_time      1562 non-null   object\n",
      " 5   Arr_time      1562 non-null   object\n",
      " 6   Duration      1562 non-null   object\n",
      " 7   Journey_Type  1562 non-null   object\n",
      " 8   Price         1562 non-null   object\n",
      "dtypes: int64(1), object(8)\n",
      "memory usage: 110.0+ KB\n"
     ]
    }
   ],
   "source": [
    "df_flight.info()"
   ]
  },
  {
   "cell_type": "code",
   "execution_count": 6,
   "metadata": {},
   "outputs": [
    {
     "data": {
      "text/plain": [
       "Unnamed: 0      0\n",
       "Airline         0\n",
       "Departure       0\n",
       "Arrival         0\n",
       "Dep_time        0\n",
       "Arr_time        0\n",
       "Duration        0\n",
       "Journey_Type    0\n",
       "Price           0\n",
       "dtype: int64"
      ]
     },
     "execution_count": 6,
     "metadata": {},
     "output_type": "execute_result"
    }
   ],
   "source": [
    "df_flight.isnull().sum()"
   ]
  },
  {
   "cell_type": "markdown",
   "metadata": {},
   "source": [
    "###  Exploratory Data Analysis :"
   ]
  },
  {
   "cell_type": "code",
   "execution_count": 7,
   "metadata": {},
   "outputs": [],
   "source": [
    "sns.set_style('darkgrid')"
   ]
  },
  {
   "cell_type": "code",
   "execution_count": 8,
   "metadata": {
    "scrolled": true
   },
   "outputs": [
    {
     "data": {
      "text/plain": [
       "Index(['Unnamed: 0', 'Airline', 'Departure', 'Arrival', 'Dep_time', 'Arr_time',\n",
       "       'Duration', 'Journey_Type', 'Price'],\n",
       "      dtype='object')"
      ]
     },
     "execution_count": 8,
     "metadata": {},
     "output_type": "execute_result"
    }
   ],
   "source": [
    "df_flight.columns"
   ]
  },
  {
   "cell_type": "code",
   "execution_count": 9,
   "metadata": {
    "scrolled": false
   },
   "outputs": [
    {
     "name": "stdout",
     "output_type": "stream",
     "text": [
      "Unnamed: 0 : [   0    1    2 ... 1559 1560 1561]\n",
      "Airline : ['IndiGo' 'Go First' 'SpiceJet' 'Vistara' 'Air India' 'Air Asia' 'TruJet']\n",
      "Departure : ['New Delhi' 'Mumbai' 'Bangalore' 'Chennai' 'Hyderabad' 'Pune' 'Kochi'\n",
      " 'Kolkata']\n",
      "Arrival : ['Varanasi' 'Ahmedabad' 'Jammu' 'Goa' 'Hyderabad' 'Nagpur' 'Kochi'\n",
      " 'Bagdogra' 'Indore' 'New Delhi' 'Chennai' 'Bangalore' 'Kolkata'\n",
      " 'Chandigarh' 'Mumbai' 'Visakhapatnam' 'Pune']\n",
      "Dep_time : ['15:30' '05:05' '09:10' '17:45' '17:30' '06:25' '13:20' '18:55' '10:25'\n",
      " '10:15' '05:45' '06:00' '17:50' '20:40' '21:00' '19:00' '21:40' '02:00'\n",
      " '22:30' '10:20' '09:30' '05:50' '16:55' '12:50' '20:00' '10:40' '09:00'\n",
      " '07:30' '19:50' '11:40' '08:50' '07:00' '17:15' '06:05' '17:10' '15:05'\n",
      " '13:40' '14:20' '17:20' '05:15' '06:40' '13:30' '22:15' '11:25' '06:10'\n",
      " '20:10' '18:30' '20:20' '19:55' '15:00' '13:00' '07:50' '05:00' '21:20'\n",
      " '06:55' '19:10' '08:45' '10:35' '07:25' '12:55' '08:00' '10:30' '09:20'\n",
      " '17:00' '13:10' '14:15' '07:35' '13:25' '09:35' '15:15' '10:50' '11:55'\n",
      " '09:55' '09:15' '11:45' '23:35' '02:10' '21:55' '23:45' '04:45' '00:05'\n",
      " '14:05' '15:20' '04:55' '22:05' '05:30' '11:15' '16:20' '12:00' '09:25'\n",
      " '19:05' '11:30' '16:00' '13:05' '19:20' '10:45' '06:20' '22:40' '10:00'\n",
      " '21:30' '12:15' '18:00' '09:05' '15:25' '07:05' '22:55' '21:15' '07:20'\n",
      " '20:15' '22:45' '20:55' '14:40' '19:45' '15:45' '14:35' '22:50' '06:15'\n",
      " '12:45' '06:50' '16:45' '06:30' '12:25' '09:50' '05:10' '19:40' '18:05'\n",
      " '18:20' '08:35' '14:00' '18:40' '05:55' '23:10' '08:10' '07:15' '06:45'\n",
      " '04:15' '02:30' '21:45' '12:05' '16:50' '05:35' '07:55' '15:10' '21:25'\n",
      " '19:30' '16:05' '20:45' '04:25' '18:35' '14:10' '19:35' '09:45' '11:10'\n",
      " '13:50' '15:50' '08:15' '23:20' '07:40' '07:10' '18:45' '14:30' '16:25'\n",
      " '18:50' '16:15' '15:35' '18:15' '14:50' '10:55' '14:45' '08:30' '18:25'\n",
      " '05:25' '11:50' '11:05' '21:10' '05:40' '11:00' '16:30' '04:40' '19:15'\n",
      " '22:10' '23:00' '10:05' '02:40' '11:20' '00:10' '00:45' '17:25' '17:05'\n",
      " '17:35' '20:50' '15:40' '09:40' '13:55' '21:50' '22:25' '13:45' '17:40'\n",
      " '21:05' '22:35' '23:30' '16:35' '08:25' '06:35' '20:30' '12:30' '14:55'\n",
      " '23:05' '08:20' '12:10' '19:25' '18:10' '23:15' '01:05' '22:20' '20:35'\n",
      " '15:55' '08:05' '11:35' '13:35' '21:35' '16:10' '13:15' '08:40' '12:35'\n",
      " '16:40' '01:15' '20:25' '23:40' '07:45']\n",
      "Arr_time : ['16:50' '06:30' '10:40' '19:20' '19:00' '08:20' '14:45' '20:10' '11:55'\n",
      " '11:35' '15:35' '12:30' '12:40\\n+ 1 day' '15:35\\n+ 1 day'\n",
      " '13:20\\n+ 1 day' '13:20' '13:40' '12:40' '16:25' '06:50' '08:15' '15:05'\n",
      " '23:50' '13:10' '07:30' '07:40' '17:05' '21:50' '19:55' '22:00' '21:30'\n",
      " '07:55\\n+ 1 day' '20:15' '15:30' '09:10' '20:40' '10:20' '17:35' '14:25'\n",
      " '22:55' '17:00' '19:05' '20:25' '18:30' '21:55' '08:50' '10:45'\n",
      " '00:05\\n+ 1 day' '18:20' '14:35' '11:05' '12:20' '13:30' '12:45' '15:50'\n",
      " '13:15\\n+ 1 day' '13:15' '00:35\\n+ 1 day' '03:35' '23:00'\n",
      " '01:00\\n+ 1 day' '05:55' '01:15' '06:25' '15:15' '16:30' '06:10' '23:25'\n",
      " '22:25' '12:50' '17:45' '18:00' '14:05\\n+ 1 day' '20:30' '12:35'\n",
      " '00:35\\n+ 2 days' '23:45' '23:10' '14:05' '17:10' '14:55\\n+ 1 day'\n",
      " '15:25\\n+ 1 day' '13:30\\n+ 1 day' '22:35' '21:20\\n+ 1 day'\n",
      " '17:00\\n+ 1 day' '13:50\\n+ 1 day' '14:55' '06:50\\n+ 1 day'\n",
      " '08:45\\n+ 1 day' '17:40' '23:20' '15:25' '08:30\\n+ 1 day'\n",
      " '09:30\\n+ 1 day' '07:35' '07:50' '21:25' '20:55' '08:30' '12:05' '12:15'\n",
      " '21:35' '18:35' '20:55\\n+ 1 day' '19:20\\n+ 1 day' '19:15' '23:35'\n",
      " '10:30\\n+ 1 day' '11:55\\n+ 1 day' '21:05\\n+ 1 day' '12:25\\n+ 1 day'\n",
      " '15:20' '21:05' '12:10\\n+ 1 day' '12:10' '10:00' '09:40\\n+ 1 day' '23:40'\n",
      " '19:10' '08:40' '17:35\\n+ 1 day' '09:55\\n+ 1 day' '08:00'\n",
      " '07:50\\n+ 1 day' '08:55\\n+ 1 day' '07:00' '21:45' '08:35' '17:20' '15:40'\n",
      " '20:00' '15:10' '20:35' '20:35\\n+ 1 day' '15:00' '05:35\\n+ 1 day'\n",
      " '02:05\\n+ 1 day' '00:45\\n+ 1 day' '05:05\\n+ 1 day' '20:50' '10:05'\n",
      " '19:50' '08:45' '16:10' '09:30' '04:25\\n+ 1 day' '12:00' '22:10' '18:40'\n",
      " '13:35' '10:55' '07:00\\n+ 1 day' '08:05' '22:45' '07:10\\n+ 1 day' '19:25'\n",
      " '02:25\\n+ 1 day' '14:20' '14:15' '22:50' '09:10\\n+ 1 day'\n",
      " '19:15\\n+ 1 day' '09:45' '09:20' '11:50' '15:55' '16:05' '11:40' '14:10'\n",
      " '10:20\\n+ 1 day' '10:15' '11:45' '06:40\\n+ 1 day' '08:25\\n+ 1 day'\n",
      " '07:20' '11:30' '20:05' '17:50' '12:55' '07:45\\n+ 1 day' '22:20' '23:55'\n",
      " '18:10' '19:30' '12:15\\n+ 1 day' '07:15\\n+ 1 day' '10:00\\n+ 1 day'\n",
      " '21:15' '08:40\\n+ 1 day' '00:25\\n+ 1 day' '23:30' '14:30' '15:45'\n",
      " '00:30\\n+ 1 day' '10:40\\n+ 1 day' '01:45\\n+ 1 day' '12:25' '16:15'\n",
      " '02:10\\n+ 1 day' '10:30' '20:20' '16:45' '14:50' '20:45' '01:05\\n+ 1 day'\n",
      " '02:30\\n+ 1 day' '10:50' '04:15\\n+ 1 day' '01:40\\n+ 1 day' '13:00'\n",
      " '09:40' '02:55' '08:55' '16:35\\n+ 1 day' '04:40\\n+ 1 day'\n",
      " '10:15\\n+ 1 day' '11:10\\n+ 1 day' '18:15\\n+ 1 day' '09:00\\n+ 1 day'\n",
      " '15:10\\n+ 1 day' '19:55\\n+ 1 day' '03:40\\n+ 1 day' '18:30\\n+ 1 day'\n",
      " '00:55\\n+ 1 day' '00:10\\n+ 1 day' '13:50' '21:50\\n+ 1 day' '18:45'\n",
      " '21:30\\n+ 1 day' '23:55\\n+ 1 day' '01:15\\n+ 1 day' '00:40\\n+ 1 day'\n",
      " '00:50\\n+ 1 day' '02:00\\n+ 1 day' '14:20\\n+ 1 day' '03:35\\n+ 1 day'\n",
      " '02:55\\n+ 1 day' '21:00' '09:00' '11:25' '09:35\\n+ 1 day'\n",
      " '12:30\\n+ 1 day' '08:05\\n+ 1 day' '08:35\\n+ 1 day' '16:55\\n+ 1 day'\n",
      " '11:00\\n+ 1 day' '18:05' '16:55' '19:40' '14:30\\n+ 1 day'\n",
      " '23:45\\n+ 1 day' '17:55' '21:20' '08:00\\n+ 1 day' '21:10'\n",
      " '01:55\\n+ 1 day' '18:50' '10:25' '05:55\\n+ 1 day' '01:10\\n+ 1 day'\n",
      " '17:25' '07:40\\n+ 1 day' '10:10' '16:20' '12:50\\n+ 1 day'\n",
      " '09:05\\n+ 1 day' '11:50\\n+ 1 day' '17:05\\n+ 1 day' '23:05'\n",
      " '07:20\\n+ 1 day' '10:55\\n+ 1 day' '11:20\\n+ 1 day' '19:35' '16:40'\n",
      " '21:10\\n+ 1 day' '14:40' '14:00' '00:20\\n+ 1 day' '16:25\\n+ 1 day'\n",
      " '21:25\\n+ 1 day' '01:25\\n+ 1 day' '01:35\\n+ 1 day' '09:05'\n",
      " '07:30\\n+ 1 day' '09:35' '09:25' '18:15' '10:35\\n+ 1 day'\n",
      " '07:25\\n+ 1 day' '18:25' '23:15' '04:15' '07:55' '03:20' '11:15' '16:35'\n",
      " '07:15' '09:15' '22:30' '18:05\\n+ 1 day' '19:40\\n+ 1 day' '13:55' '17:30'\n",
      " '10:35' '13:35\\n+ 1 day' '08:15\\n+ 1 day' '11:00' '16:00' '21:40' '17:15'\n",
      " '07:05' '18:55' '08:10\\n+ 1 day' '10:10\\n+ 1 day' '09:50\\n+ 1 day'\n",
      " '10:05\\n+ 1 day' '13:00\\n+ 1 day' '20:30\\n+ 1 day' '21:15\\n+ 1 day'\n",
      " '19:45' '03:45' '01:20\\n+ 1 day' '14:25\\n+ 1 day' '22:05'\n",
      " '23:00\\n+ 1 day' '18:40\\n+ 1 day' '08:50\\n+ 1 day' '14:40\\n+ 1 day'\n",
      " '19:50\\n+ 1 day']\n",
      "Duration : ['1h 20m' '1h 25m' '1h 30m' '1h 35m' '1h 55m' '1h 15m' '9h 50m' '6h 30m'\n",
      " '18h 50m' '18h 55m' '16h 20m' '17h 40m' '17h 55m' '11h 20m' '14h 50m'\n",
      " '5h 15m' '6h 05m' '7h 50m' '22h 40m' '26h 45m' '16h 40m' '26h 00m'\n",
      " '27h 40m' '8h 05m' '19h 45m' '24h 05m' '27h 55m' '6h 45m' '5h 40m'\n",
      " '19h 25m' '20h 40m' '21h 50m' '10h 20m' '22h 25m' '21h 35m' '25h 55m'\n",
      " '16h 00m' '25h 15m' '19h 20m' '1h 45m' '1h 40m' '12h 55m' '7h 15m'\n",
      " '7h 40m' '9h 30m' '10h 30m' '10h 35m' '2h 15m' '7h 00m' '8h 35m'\n",
      " '10h 00m' '6h 20m' '8h 00m' '11h 05m' '9h 55m' '5h 35m' '6h 25m' '6h 50m'\n",
      " '8h 45m' '9h 45m' '8h 25m' '2h 55m' '1h 10m' '2h 50m' '4h 40m' '5h 20m'\n",
      " '8h 10m' '25h 35m' '16h 15m' '11h 15m' '14h 45m' '1h 00m' '1h 05m'\n",
      " '17h 05m' '20h 35m' '10h 45m' '12h 40m' '5h 10m' '22h 05m' '8h 55m'\n",
      " '11h 00m' '18h 45m' '27h 20m' '31h 45m' '17h 35m' '14h 00m' '14h 35m'\n",
      " '16h 35m' '27h 05m' '9h 40m' '10h 55m' '13h 15m' '15h 10m' '6h 35m'\n",
      " '5h 00m' '7h 05m' '9h 10m' '30h 50m' '17h 30m' '16h 30m' '13h 45m'\n",
      " '15h 15m' '23h 25m' '20h 45m' '22h 35m' '15h 55m' '15h 05m' '24h 25m'\n",
      " '23h 10m' '26h 50m' '7h 35m' '16h 55m' '18h 05m' '20h 20m' '34h 35m'\n",
      " '10h 40m' '11h 25m' '12h 35m' '8h 15m' '8h 20m' '9h 35m' '10h 10m'\n",
      " '13h 05m' '23h 55m' '25h 45m' '9h 20m' '12h 15m' '12h 20m' '14h 30m'\n",
      " '13h 00m' '13h 35m' '14h 25m' '15h 30m' '15h 35m' '19h 40m' '26h 55m'\n",
      " '4h 55m' '11h 50m' '13h 55m' '14h 55m' '13h 25m' '14h 15m' '5h 25m'\n",
      " '6h 10m' '7h 10m' '7h 45m' '4h 50m' '5h 05m' '8h 30m' '8h 50m' '3h 25m'\n",
      " '31h 35m' '33h 35m' '34h 30m' '24h 55m' '7h 55m' '18h 30m' '10h 50m'\n",
      " '12h 10m' '13h 40m' '3h 20m' '14h 40m' '38h 40m' '6h 15m' '4h 45m'\n",
      " '24h 35m' '5h 30m' '9h 15m' '37h 40m' '11h 35m' '5h 45m' '9h 25m'\n",
      " '7h 20m' '3h 00m' '3h 10m' '3h 15m' '5h 50m' '5h 55m' '6h 40m' '7h 25m'\n",
      " '8h 40m' '11h 30m' '12h 25m' '16h 10m' '7h 30m' '10h 15m' '11h 55m'\n",
      " '15h 50m' '27h 00m' '23h 15m' '24h 15m' '25h 25m' '9h 05m' '28h 10m'\n",
      " '2h 00m' '2h 05m' '13h 20m' '4h 25m' '4h 30m' '21h 45m' '2h 30m'\n",
      " '11h 10m' '12h 30m' '14h 10m' '3h 45m' '12h 05m' '4h 05m' '9h 00m'\n",
      " '4h 00m' '4h 35m' '12h 50m' '13h 50m' '17h 15m' '17h 50m' '23h 20m'\n",
      " '25h 00m' '25h 10m' '26h 05m' '24h 30m' '11h 45m' '25h 20m' '15h 00m'\n",
      " '17h 20m' '18h 20m' '13h 10m' '17h 45m' '21h 25m' '2h 40m' '2h 45m'\n",
      " '6h 00m' '2h 35m' '26h 30m' '21h 40m' '25h 30m' '19h 05m' '23h 05m'\n",
      " '16h 45m' '19h 15m' '15h 25m' '19h 00m' '24h 00m' '23h 40m' '25h 50m'\n",
      " '26h 40m' '3h 05m' '27h 10m' '20h 25m' '15h 45m' '11h 40m' '18h 00m'\n",
      " '32h 50m' '25h 40m' '6h 55m' '12h 00m' '14h 20m' '24h 40m' '26h 25m'\n",
      " '19h 30m' '20h 50m' '24h 10m' '22h 15m' '23h 50m' '13h 30m' '22h 20m'\n",
      " '24h 20m' '4h 20m' '2h 10m' '2h 20m' '10h 25m' '0h 55m' '4h 15m'\n",
      " '10h 05m' '15h 40m' '16h 25m' '20h 30m' '31h 05m' '21h 20m' '26h 15m'\n",
      " '4h 10m' '3h 40m' '18h 25m' '20h 15m' '31h 50m' '34h 50m' '19h 35m'\n",
      " '23h 35m' '12h 45m' '14h 05m' '16h 05m' '25h 05m' '2h 25m' '28h 40m'\n",
      " '21h 30m' '28h 00m' '18h 10m']\n",
      "Journey_Type : ['1 Stop' '2 Stop(s)' '3 Stop(s)' '4 Stop(s)' 'Non Stop']\n",
      "Price : ['2,060' '2,068' '2,154' '2,625' '2,793' '3,666' '5,674' '5,819' '5,894'\n",
      " '6,023' '6,067' '6,209' '6,230' '6,401' '6,409' '6,521' '6,548' '6,629'\n",
      " '6,724' '6,758' '6,934' '6,960' '7,249' '7,283' '7,741' '8,644' '8,729'\n",
      " '8,854' '9,110' '9,422' '9,444' '9,599' '9,654' '2,161' '2,312' '2,341'\n",
      " '2,418' '3,115' '3,120' '3,215' '3,446' '3,702' '3,820' '3,994' '4,259'\n",
      " '4,260' '4,303' '4,353' '4,364' '4,393' '4,593' '4,651' '4,723' '2,172'\n",
      " '2,256' '2,275' '2,592' '2,803' '2,989' '3,015' '3,219' '3,593' '4,065'\n",
      " '5,845' '6,093' '6,139' '6,300' '6,634' '2,594' '2,688' '2,804' '3,053'\n",
      " '3,118' '3,368' '3,780' '4,305' '4,484' '4,628' '5,100' '5,297' '5,350'\n",
      " '5,523' '5,599' '5,628' '5,665' '6,035' '6,384' '6,483' '6,910' '7,029'\n",
      " '7,225' '7,256' '7,401' '7,645' '7,865' '8,170' '8,195' '8,425' '8,462'\n",
      " '8,590' '9,475' '9,518' '9,632' '10,167' '10,427' '10,563' '10,626'\n",
      " '10,952' '11,069' '11,151' '11,162' '11,477' '11,595' '11,687' '11,996'\n",
      " '12,002' '12,212' '12,483' '12,798' '4,261' '4,262' '4,263' '4,421'\n",
      " '4,473' '4,578' '4,736' '4,840' '5,471' '5,825' '6,899' '7,584' '7,585'\n",
      " '8,046' '8,148' '8,283' '8,926' '8,936' '8,988' '9,356' '9,879' '10,058'\n",
      " '10,103' '10,406' '10,593' '10,644' '10,931' '11,036' '11,141' '11,351'\n",
      " '11,403' '11,452' '11,639' '11,928' '12,410' '13,086' '5,114' '5,115'\n",
      " '5,430' '5,572' '6,900' '6,942' '9,683' '9,945' '10,401' '10,474'\n",
      " '10,523' '10,628' '10,680' '10,712' '10,785' '10,985' '10,995' '11,166'\n",
      " '11,310' '11,352' '11,861' '12,255' '12,728' '9,105' '9,106' '9,357'\n",
      " '9,472' '9,525' '10,155' '10,242' '10,312' '10,470' '11,940' '12,238'\n",
      " '12,360' '12,964' '13,568' '13,620' '5,690' '5,640' '5,850' '6,485'\n",
      " '6,533' '7,163' '8,003' '8,055' '8,370' '8,738' '9,053' '3,289' '4,337'\n",
      " '4,338' '4,339' '4,548' '4,707' '5,509' '5,754' '5,808' '5,966' '7,121'\n",
      " '7,278' '7,532' '7,813' '7,948' '8,224' '8,260' '8,359' '9,379' '9,850'\n",
      " '9,880' '10,205' '11,205' '11,383' '11,420' '11,509' '11,584' '11,919'\n",
      " '5,109' '5,494' '5,598' '5,985' '6,144' '7,486' '7,487' '7,488' '7,489'\n",
      " '8,505' '8,780' '9,054' '9,222' '9,484' '9,720' '9,771' '9,904' '10,009'\n",
      " '10,071' '10,124' '10,272' '10,324' '10,534' '10,717' '10,744' '5,149'\n",
      " '5,725' '5,849' '5,867' '6,072' '6,347' '6,410' '7,352' '7,353' '7,458'\n",
      " '7,562' '7,877' '7,998' '8,193' '8,685' '9,419' '10,049' '10,136'\n",
      " '10,243' '10,398' '10,443' '10,608' '10,743' '10,976' '11,448' '11,553'\n",
      " '11,944' '12,527' '12,708' '5,738' '5,942' '5,952' '6,495' '7,311'\n",
      " '7,425' '7,426' '7,530' '7,635' '7,933' '7,976' '8,265' '9,195' '9,630'\n",
      " '9,736' '9,840' '9,925' '10,428' '10,496' '11,100' '11,520' '11,625'\n",
      " '11,629' '5,444' '5,864' '5,937' '6,417' '6,480' '7,241' '7,423' '7,424'\n",
      " '5,429' '5,953' '5,954' '5,955' '3,434' '3,435' '3,488' '3,645' '4,275'\n",
      " '4,941' '5,023' '5,949' '4,899' '6,132' '6,133' '6,134' '6,343' '6,344'\n",
      " '6,553' '6,868' '7,183' '7,236' '7,392' '7,393' '8,233' '8,496' '8,594'\n",
      " '9,073' '9,074' '9,126' '9,283' '9,441' '10,018' '10,123' '10,438'\n",
      " '10,753' '10,858' '10,989' '11,016' '11,331' '11,488' '4,453' '4,454'\n",
      " '4,829' '6,763' '7,603' '8,928' '13,759' '14,221' '14,683' '16,003'\n",
      " '5,385' '5,956' '6,060' '6,376' '6,377' '6,795' '6,932' '7,005' '7,007'\n",
      " '5,000' '5,688' '6,271' '6,272' '6,273' '6,274' '6,693' '6,798' '6,851'\n",
      " '6,901' '7,008' '7,113' '8,373' '9,161' '9,528' '9,896' '10,001' '4,102'\n",
      " '5,176' '5,178' '5,179' '7,646' '8,066' '8,328' '11,164' '15,262'\n",
      " '16,197' '17,359' '7,549' '7,617' '9,030' '9,034' '9,035' '9,401' '9,806'\n",
      " '10,293' '10,767' '13,549' '6,487' '6,488' '6,489' '6,490' '6,594'\n",
      " '6,804' '6,907' '6,909' '7,118' '7,119' '7,329' '7,434' '7,466' '7,954'\n",
      " '8,064' '8,442' '8,930' '9,324' '9,534' '9,907' '10,059' '10,112'\n",
      " '10,395' '10,720' '11,634' '11,844' '11,860' '12,054' '12,159' '12,551'\n",
      " '12,894' '13,314' '13,325' '13,386' '13,524' '13,734' '13,813' '13,839'\n",
      " '13,944' '14,049' '14,364' '14,574' '14,710' '14,772' '14,889']\n"
     ]
    }
   ],
   "source": [
    "for column in df_flight:\n",
    "    print(f'{column} : {df_flight[column].unique()}')"
   ]
  },
  {
   "cell_type": "code",
   "execution_count": 10,
   "metadata": {},
   "outputs": [],
   "source": [
    "df_flight['Price'] = df_flight['Price'].str.replace(',','').astype('int') "
   ]
  },
  {
   "cell_type": "code",
   "execution_count": 11,
   "metadata": {},
   "outputs": [],
   "source": [
    "df_flight['Dep_hour'] = pd.to_datetime(df_flight['Dep_time']).dt.hour\n",
    "\n",
    "\n",
    "df_flight['Dep_min'] = pd.to_datetime(df_flight['Dep_time']).dt.minute\n",
    "\n",
    "\n",
    "df_flight.drop(['Dep_time'],axis=1,inplace= True)\n"
   ]
  },
  {
   "cell_type": "code",
   "execution_count": 12,
   "metadata": {},
   "outputs": [],
   "source": [
    "df_flight['Arr_time'] = df_flight['Arr_time'].str.replace('\\n','')"
   ]
  },
  {
   "cell_type": "code",
   "execution_count": 13,
   "metadata": {},
   "outputs": [],
   "source": [
    "df_flight['Arr_time'] = df_flight['Arr_time'].str.replace('+','')"
   ]
  },
  {
   "cell_type": "code",
   "execution_count": 14,
   "metadata": {},
   "outputs": [],
   "source": [
    "df_flight['Arr_time'] = df_flight['Arr_time'].str.replace('1','')"
   ]
  },
  {
   "cell_type": "code",
   "execution_count": 15,
   "metadata": {},
   "outputs": [],
   "source": [
    "df_flight['Arr_time'] = df_flight['Arr_time'].str.replace('day','')"
   ]
  },
  {
   "cell_type": "code",
   "execution_count": 16,
   "metadata": {},
   "outputs": [
    {
     "data": {
      "text/plain": [
       "array(['6:50', '06:30', '0:40', '9:20', '9:00', '08:20', '4:45', '20:0',\n",
       "       ':55', ':35', '5:35', '2:30', '2:40  ', '5:35  ', '3:20  ', '3:20',\n",
       "       '3:40', '2:40', '6:25', '06:50', '08:5', '5:05', '23:50', '3:0',\n",
       "       '07:30', '07:40', '7:05', '2:50', '9:55', '22:00', '07:55  ',\n",
       "       '20:5', '5:30', '09:0', '20:40', '0:20', '7:35', '4:25', '22:55',\n",
       "       '7:00', '9:05', '20:25', '8:30', '2:55', '08:50', '0:45',\n",
       "       '00:05  ', '8:20', '4:35', ':05', '2:20', '3:30', '2:45', '5:50',\n",
       "       '3:5  ', '3:5', '00:35  ', '03:35', '23:00', '0:00  ', '05:55',\n",
       "       '0:5', '06:25', '5:5', '6:30', '06:0', '23:25', '22:25', '7:45',\n",
       "       '8:00', '4:05  ', '20:30', '2:35', '00:35 2 s', '23:45', '23:0',\n",
       "       '4:05', '7:0', '4:55  ', '5:25  ', '3:30  ', '22:35', '2:20  ',\n",
       "       '7:00  ', '3:50  ', '4:55', '06:50  ', '08:45  ', '7:40', '23:20',\n",
       "       '5:25', '08:30  ', '09:30  ', '07:35', '07:50', '2:25', '20:55',\n",
       "       '08:30', '2:05', '2:5', '8:35', '20:55  ', '9:20  ', '9:5',\n",
       "       '23:35', '0:30  ', ':55  ', '2:05  ', '2:25  ', '5:20', '2:0  ',\n",
       "       '2:0', '0:00', '09:40  ', '23:40', '9:0', '08:40', '7:35  ',\n",
       "       '09:55  ', '08:00', '07:50  ', '08:55  ', '07:00', '08:35', '7:20',\n",
       "       '5:40', '20:00', '5:0', '20:35', '20:35  ', '5:00', '05:35  ',\n",
       "       '02:05  ', '00:45  ', '05:05  ', '20:50', '0:05', '9:50', '08:45',\n",
       "       '6:0', '09:30', '04:25  ', '2:00', '22:0', '8:40', '3:35', '0:55',\n",
       "       '07:00  ', '08:05', '22:45', '07:0  ', '9:25', '02:25  ', '4:20',\n",
       "       '4:5', '22:50', '09:0  ', '9:5  ', '09:45', '09:20', ':50', '5:55',\n",
       "       '6:05', ':40', '4:0', '0:20  ', ':45', '06:40  ', '08:25  ',\n",
       "       '07:20', ':30', '20:05', '7:50', '07:45  ', '22:20', '23:55',\n",
       "       '8:0', '9:30', '2:5  ', '07:5  ', '08:40  ', '00:25  ', '23:30',\n",
       "       '4:30', '5:45', '00:30  ', '0:40  ', '0:45  ', '6:5', '02:0  ',\n",
       "       '0:30', '20:20', '6:45', '4:50', '20:45', '0:05  ', '02:30  ',\n",
       "       '0:50', '04:5  ', '3:00', '09:40', '02:55', '08:55', '6:35  ',\n",
       "       '04:40  ', '0:5  ', ':0  ', '8:5  ', '09:00  ', '5:0  ', '9:55  ',\n",
       "       '03:40  ', '8:30  ', '00:55  ', '00:0  ', '3:50', '2:50  ', '8:45',\n",
       "       '2:30  ', '23:55  ', '00:40  ', '00:50  ', '02:00  ', '4:20  ',\n",
       "       '03:35  ', '02:55  ', '09:00', ':25', '09:35  ', '08:05  ',\n",
       "       '08:35  ', '6:55  ', ':00  ', '8:05', '6:55', '9:40', '4:30  ',\n",
       "       '23:45  ', '7:55', '08:00  ', '0:55  ', '8:50', '0:25', '05:55  ',\n",
       "       '0:0  ', '7:25', '07:40  ', '0:0', '6:20', '09:05  ', ':50  ',\n",
       "       '7:05  ', '23:05', '07:20  ', ':20  ', '9:35', '6:40', '4:40',\n",
       "       '4:00', '00:20  ', '6:25  ', '0:25  ', '0:35  ', '09:05',\n",
       "       '07:30  ', '09:35', '09:25', '8:5', '07:25  ', '8:25', '23:5',\n",
       "       '04:5', '07:55', '03:20', ':5', '6:35', '07:5', '09:5', '22:30',\n",
       "       '8:05  ', '9:40  ', '3:55', '7:30', '0:35', '3:35  ', '08:5  ',\n",
       "       ':00', '6:00', '7:5', '07:05', '8:55', '08:0  ', '09:50  ',\n",
       "       '3:00  ', '20:30  ', '9:45', '03:45', '4:25  ', '22:05', '23:00  ',\n",
       "       '8:40  ', '08:50  ', '4:40  ', '9:50  '], dtype=object)"
      ]
     },
     "execution_count": 16,
     "metadata": {},
     "output_type": "execute_result"
    }
   ],
   "source": [
    "df_flight['Arr_time'].unique()"
   ]
  },
  {
   "cell_type": "code",
   "execution_count": 17,
   "metadata": {},
   "outputs": [],
   "source": [
    "df_flight['Arr_time'] = pd.to_datetime(df_flight['Arr_time'], errors = 'coerce')"
   ]
  },
  {
   "cell_type": "code",
   "execution_count": 18,
   "metadata": {},
   "outputs": [],
   "source": [
    "df_flight['Arr_hour'] = pd.to_datetime(df_flight['Arr_time']).dt.hour\n",
    "\n",
    "df_flight['Arr_min'] = pd.to_datetime(df_flight['Arr_time']).dt.minute\n",
    "\n",
    "df_flight.drop(['Arr_time'],axis=1,inplace=True)"
   ]
  },
  {
   "cell_type": "code",
   "execution_count": 19,
   "metadata": {},
   "outputs": [],
   "source": [
    "df_flight=df_flight.rename(columns={'Journey_Type' :'Total_Stops'})\n",
    "df_flight=df_flight.rename(columns={'Departure' :'Origin'})\n",
    "df_flight=df_flight.rename(columns={'Arrival' :'Destination'})"
   ]
  },
  {
   "cell_type": "code",
   "execution_count": 20,
   "metadata": {},
   "outputs": [],
   "source": [
    "df_flight['Total_Stops'] = df_flight['Total_Stops'].str.replace('1 Stop','1').replace('2 Stop(s)','2').replace('3 Stop(s)','3').replace('4 Stop(s)','4').replace('Non Stop','0').astype('int64')"
   ]
  },
  {
   "cell_type": "code",
   "execution_count": 21,
   "metadata": {},
   "outputs": [
    {
     "data": {
      "text/plain": [
       "array([1, 2, 3, 4, 0], dtype=int64)"
      ]
     },
     "execution_count": 21,
     "metadata": {},
     "output_type": "execute_result"
    }
   ],
   "source": [
    "df_flight['Total_Stops'].unique()"
   ]
  },
  {
   "cell_type": "code",
   "execution_count": 22,
   "metadata": {},
   "outputs": [],
   "source": [
    "duration = list(df_flight['Duration'])\n",
    "\n",
    "for i in range(len(duration)):\n",
    "    if len(duration[i].split()) !=2: #checking if duraation contains only hrs or min\n",
    "        if \"h\" in duration[i]:\n",
    "            duration['i']=duration[i].strip() + \" 0m\"  # Adds 0 minute\n",
    "        else:\n",
    "            duration[i]=\"0h \" + duration[i]   # Adds 0 hour\n",
    "            \n",
    "        \n",
    "duration_hours = []\n",
    "duration_mins = []\n",
    "for i in range(len(duration)):\n",
    "    duration_hours.append(int(duration[i].split(sep = \"h\")[0]))    # Extract hours from duration\n",
    "    duration_mins.append(int(duration[i].split(sep = \"m\")[0].split()[-1]))   # Extracts only minutes from duration"
   ]
  },
  {
   "cell_type": "code",
   "execution_count": 23,
   "metadata": {},
   "outputs": [],
   "source": [
    "# Adding duration_hours and duration_mins list to train_data dataframe\n",
    "\n",
    "df_flight[\"Duration_hours\"] = duration_hours\n",
    "df_flight[\"Duration_mins\"] = duration_mins\n",
    "\n",
    "df_flight.drop(['Duration'],axis=1,inplace=True)"
   ]
  },
  {
   "cell_type": "code",
   "execution_count": 24,
   "metadata": {},
   "outputs": [
    {
     "data": {
      "text/html": [
       "<div>\n",
       "<style scoped>\n",
       "    .dataframe tbody tr th:only-of-type {\n",
       "        vertical-align: middle;\n",
       "    }\n",
       "\n",
       "    .dataframe tbody tr th {\n",
       "        vertical-align: top;\n",
       "    }\n",
       "\n",
       "    .dataframe thead th {\n",
       "        text-align: right;\n",
       "    }\n",
       "</style>\n",
       "<table border=\"1\" class=\"dataframe\">\n",
       "  <thead>\n",
       "    <tr style=\"text-align: right;\">\n",
       "      <th></th>\n",
       "      <th>Unnamed: 0</th>\n",
       "      <th>Airline</th>\n",
       "      <th>Origin</th>\n",
       "      <th>Destination</th>\n",
       "      <th>Total_Stops</th>\n",
       "      <th>Price</th>\n",
       "      <th>Dep_hour</th>\n",
       "      <th>Dep_min</th>\n",
       "      <th>Arr_hour</th>\n",
       "      <th>Arr_min</th>\n",
       "      <th>Duration_hours</th>\n",
       "      <th>Duration_mins</th>\n",
       "    </tr>\n",
       "  </thead>\n",
       "  <tbody>\n",
       "    <tr>\n",
       "      <th>0</th>\n",
       "      <td>0</td>\n",
       "      <td>IndiGo</td>\n",
       "      <td>New Delhi</td>\n",
       "      <td>Varanasi</td>\n",
       "      <td>1</td>\n",
       "      <td>2060</td>\n",
       "      <td>15</td>\n",
       "      <td>30</td>\n",
       "      <td>6.0</td>\n",
       "      <td>50.0</td>\n",
       "      <td>1</td>\n",
       "      <td>20</td>\n",
       "    </tr>\n",
       "    <tr>\n",
       "      <th>1</th>\n",
       "      <td>1</td>\n",
       "      <td>IndiGo</td>\n",
       "      <td>New Delhi</td>\n",
       "      <td>Varanasi</td>\n",
       "      <td>1</td>\n",
       "      <td>2060</td>\n",
       "      <td>5</td>\n",
       "      <td>5</td>\n",
       "      <td>6.0</td>\n",
       "      <td>30.0</td>\n",
       "      <td>1</td>\n",
       "      <td>25</td>\n",
       "    </tr>\n",
       "    <tr>\n",
       "      <th>2</th>\n",
       "      <td>2</td>\n",
       "      <td>Go First</td>\n",
       "      <td>New Delhi</td>\n",
       "      <td>Varanasi</td>\n",
       "      <td>2</td>\n",
       "      <td>2060</td>\n",
       "      <td>9</td>\n",
       "      <td>10</td>\n",
       "      <td>0.0</td>\n",
       "      <td>40.0</td>\n",
       "      <td>1</td>\n",
       "      <td>30</td>\n",
       "    </tr>\n",
       "    <tr>\n",
       "      <th>3</th>\n",
       "      <td>3</td>\n",
       "      <td>IndiGo</td>\n",
       "      <td>New Delhi</td>\n",
       "      <td>Varanasi</td>\n",
       "      <td>1</td>\n",
       "      <td>2060</td>\n",
       "      <td>17</td>\n",
       "      <td>45</td>\n",
       "      <td>9.0</td>\n",
       "      <td>20.0</td>\n",
       "      <td>1</td>\n",
       "      <td>35</td>\n",
       "    </tr>\n",
       "    <tr>\n",
       "      <th>4</th>\n",
       "      <td>4</td>\n",
       "      <td>SpiceJet</td>\n",
       "      <td>New Delhi</td>\n",
       "      <td>Varanasi</td>\n",
       "      <td>1</td>\n",
       "      <td>2068</td>\n",
       "      <td>17</td>\n",
       "      <td>30</td>\n",
       "      <td>9.0</td>\n",
       "      <td>0.0</td>\n",
       "      <td>1</td>\n",
       "      <td>30</td>\n",
       "    </tr>\n",
       "  </tbody>\n",
       "</table>\n",
       "</div>"
      ],
      "text/plain": [
       "   Unnamed: 0   Airline     Origin Destination  Total_Stops  Price  Dep_hour  \\\n",
       "0           0    IndiGo  New Delhi    Varanasi            1   2060        15   \n",
       "1           1    IndiGo  New Delhi    Varanasi            1   2060         5   \n",
       "2           2  Go First  New Delhi    Varanasi            2   2060         9   \n",
       "3           3    IndiGo  New Delhi    Varanasi            1   2060        17   \n",
       "4           4  SpiceJet  New Delhi    Varanasi            1   2068        17   \n",
       "\n",
       "   Dep_min  Arr_hour  Arr_min  Duration_hours  Duration_mins  \n",
       "0       30       6.0     50.0               1             20  \n",
       "1        5       6.0     30.0               1             25  \n",
       "2       10       0.0     40.0               1             30  \n",
       "3       45       9.0     20.0               1             35  \n",
       "4       30       9.0      0.0               1             30  "
      ]
     },
     "execution_count": 24,
     "metadata": {},
     "output_type": "execute_result"
    }
   ],
   "source": [
    "df_flight.head()"
   ]
  },
  {
   "cell_type": "code",
   "execution_count": 25,
   "metadata": {},
   "outputs": [],
   "source": [
    "df_flight.drop(['Unnamed: 0'],axis=1,inplace=True)"
   ]
  },
  {
   "cell_type": "code",
   "execution_count": 26,
   "metadata": {},
   "outputs": [
    {
     "data": {
      "text/html": [
       "<div>\n",
       "<style scoped>\n",
       "    .dataframe tbody tr th:only-of-type {\n",
       "        vertical-align: middle;\n",
       "    }\n",
       "\n",
       "    .dataframe tbody tr th {\n",
       "        vertical-align: top;\n",
       "    }\n",
       "\n",
       "    .dataframe thead th {\n",
       "        text-align: right;\n",
       "    }\n",
       "</style>\n",
       "<table border=\"1\" class=\"dataframe\">\n",
       "  <thead>\n",
       "    <tr style=\"text-align: right;\">\n",
       "      <th></th>\n",
       "      <th>Airline</th>\n",
       "      <th>Origin</th>\n",
       "      <th>Destination</th>\n",
       "      <th>Total_Stops</th>\n",
       "      <th>Price</th>\n",
       "      <th>Dep_hour</th>\n",
       "      <th>Dep_min</th>\n",
       "      <th>Arr_hour</th>\n",
       "      <th>Arr_min</th>\n",
       "      <th>Duration_hours</th>\n",
       "      <th>Duration_mins</th>\n",
       "    </tr>\n",
       "  </thead>\n",
       "  <tbody>\n",
       "    <tr>\n",
       "      <th>0</th>\n",
       "      <td>IndiGo</td>\n",
       "      <td>New Delhi</td>\n",
       "      <td>Varanasi</td>\n",
       "      <td>1</td>\n",
       "      <td>2060</td>\n",
       "      <td>15</td>\n",
       "      <td>30</td>\n",
       "      <td>6.0</td>\n",
       "      <td>50.0</td>\n",
       "      <td>1</td>\n",
       "      <td>20</td>\n",
       "    </tr>\n",
       "    <tr>\n",
       "      <th>1</th>\n",
       "      <td>IndiGo</td>\n",
       "      <td>New Delhi</td>\n",
       "      <td>Varanasi</td>\n",
       "      <td>1</td>\n",
       "      <td>2060</td>\n",
       "      <td>5</td>\n",
       "      <td>5</td>\n",
       "      <td>6.0</td>\n",
       "      <td>30.0</td>\n",
       "      <td>1</td>\n",
       "      <td>25</td>\n",
       "    </tr>\n",
       "    <tr>\n",
       "      <th>2</th>\n",
       "      <td>Go First</td>\n",
       "      <td>New Delhi</td>\n",
       "      <td>Varanasi</td>\n",
       "      <td>2</td>\n",
       "      <td>2060</td>\n",
       "      <td>9</td>\n",
       "      <td>10</td>\n",
       "      <td>0.0</td>\n",
       "      <td>40.0</td>\n",
       "      <td>1</td>\n",
       "      <td>30</td>\n",
       "    </tr>\n",
       "    <tr>\n",
       "      <th>3</th>\n",
       "      <td>IndiGo</td>\n",
       "      <td>New Delhi</td>\n",
       "      <td>Varanasi</td>\n",
       "      <td>1</td>\n",
       "      <td>2060</td>\n",
       "      <td>17</td>\n",
       "      <td>45</td>\n",
       "      <td>9.0</td>\n",
       "      <td>20.0</td>\n",
       "      <td>1</td>\n",
       "      <td>35</td>\n",
       "    </tr>\n",
       "    <tr>\n",
       "      <th>4</th>\n",
       "      <td>SpiceJet</td>\n",
       "      <td>New Delhi</td>\n",
       "      <td>Varanasi</td>\n",
       "      <td>1</td>\n",
       "      <td>2068</td>\n",
       "      <td>17</td>\n",
       "      <td>30</td>\n",
       "      <td>9.0</td>\n",
       "      <td>0.0</td>\n",
       "      <td>1</td>\n",
       "      <td>30</td>\n",
       "    </tr>\n",
       "  </tbody>\n",
       "</table>\n",
       "</div>"
      ],
      "text/plain": [
       "    Airline     Origin Destination  Total_Stops  Price  Dep_hour  Dep_min  \\\n",
       "0    IndiGo  New Delhi    Varanasi            1   2060        15       30   \n",
       "1    IndiGo  New Delhi    Varanasi            1   2060         5        5   \n",
       "2  Go First  New Delhi    Varanasi            2   2060         9       10   \n",
       "3    IndiGo  New Delhi    Varanasi            1   2060        17       45   \n",
       "4  SpiceJet  New Delhi    Varanasi            1   2068        17       30   \n",
       "\n",
       "   Arr_hour  Arr_min  Duration_hours  Duration_mins  \n",
       "0       6.0     50.0               1             20  \n",
       "1       6.0     30.0               1             25  \n",
       "2       0.0     40.0               1             30  \n",
       "3       9.0     20.0               1             35  \n",
       "4       9.0      0.0               1             30  "
      ]
     },
     "execution_count": 26,
     "metadata": {},
     "output_type": "execute_result"
    }
   ],
   "source": [
    "df_flight.head()"
   ]
  },
  {
   "cell_type": "code",
   "execution_count": 27,
   "metadata": {},
   "outputs": [
    {
     "data": {
      "text/plain": [
       "<matplotlib.axes._subplots.AxesSubplot at 0x27feebedbe0>"
      ]
     },
     "execution_count": 27,
     "metadata": {},
     "output_type": "execute_result"
    },
    {
     "data": {
      "image/png": "[encoded data removed]",
      "text/plain": [
       "<Figure size 576x576 with 1 Axes>"
      ]
     },
     "metadata": {},
     "output_type": "display_data"
    }
   ],
   "source": [
    "plt.figure(figsize=(8,8))\n",
    "sns.barplot(x='Total_Stops',y='Price',data=df_flight)"
   ]
  },
  {
   "cell_type": "code",
   "execution_count": 28,
   "metadata": {},
   "outputs": [
    {
     "data": {
      "text/plain": [
       "<Figure size 576x576 with 0 Axes>"
      ]
     },
     "metadata": {},
     "output_type": "display_data"
    },
    {
     "data": {
      "image/png": "[encoded data removed]",
      "text/plain": [
       "<Figure size 1296x432 with 1 Axes>"
      ]
     },
     "metadata": {},
     "output_type": "display_data"
    }
   ],
   "source": [
    "plt.figure(figsize=(8,8))\n",
    "# Airline vs Price\n",
    "sns.catplot(y = \"Price\", x = \"Airline\", data = df_flight.sort_values(\"Price\", ascending = False), kind=\"boxen\", height = 6, aspect = 3)\n",
    "plt.show()"
   ]
  },
  {
   "cell_type": "code",
   "execution_count": 29,
   "metadata": {},
   "outputs": [
    {
     "data": {
      "text/plain": [
       "<seaborn.axisgrid.FacetGrid at 0x27feec6c250>"
      ]
     },
     "execution_count": 29,
     "metadata": {},
     "output_type": "execute_result"
    },
    {
     "data": {
      "text/plain": [
       "<Figure size 1080x864 with 0 Axes>"
      ]
     },
     "metadata": {},
     "output_type": "display_data"
    },
    {
     "data": {
      "image/png": "[encoded data removed]",
      "text/plain": [
       "<Figure size 465.25x360 with 1 Axes>"
      ]
     },
     "metadata": {},
     "output_type": "display_data"
    }
   ],
   "source": [
    "plt.figure(figsize=(15,12)) # Airline vs Price by destination\n",
    "sns.catplot(x = 'Airline', y = 'Price', hue = 'Destination', data = df_flight)"
   ]
  },
  {
   "cell_type": "code",
   "execution_count": 30,
   "metadata": {},
   "outputs": [
    {
     "data": {
      "image/png": "[encoded data removed]",
      "text/plain": [
       "<Figure size 864x288 with 1 Axes>"
      ]
     },
     "metadata": {},
     "output_type": "display_data"
    }
   ],
   "source": [
    "# Source vs Price\n",
    "sns.catplot(y = \"Price\", x = \"Origin\", data = df_flight.sort_values(\"Price\", ascending = False), kind=\"boxen\", height = 4, aspect = 3)\n",
    "plt.show()"
   ]
  },
  {
   "cell_type": "code",
   "execution_count": 31,
   "metadata": {},
   "outputs": [
    {
     "data": {
      "image/png": "[encoded data removed]",
      "text/plain": [
       "<Figure size 864x288 with 1 Axes>"
      ]
     },
     "metadata": {},
     "output_type": "display_data"
    }
   ],
   "source": [
    "# Destination vs Price\n",
    "sns.catplot(y = \"Price\", x = \"Origin\", data = df_flight.sort_values(\"Price\", ascending = False), kind=\"boxen\", height = 4, aspect = 3)\n",
    "plt.show()"
   ]
  },
  {
   "cell_type": "code",
   "execution_count": 32,
   "metadata": {},
   "outputs": [
    {
     "data": {
      "text/plain": [
       "Airline             0\n",
       "Origin              0\n",
       "Destination         0\n",
       "Total_Stops         0\n",
       "Price               0\n",
       "Dep_hour            0\n",
       "Dep_min             0\n",
       "Arr_hour          281\n",
       "Arr_min           281\n",
       "Duration_hours      0\n",
       "Duration_mins       0\n",
       "dtype: int64"
      ]
     },
     "execution_count": 32,
     "metadata": {},
     "output_type": "execute_result"
    }
   ],
   "source": [
    "df_flight.isnull().sum()"
   ]
  },
  {
   "cell_type": "code",
   "execution_count": 33,
   "metadata": {},
   "outputs": [],
   "source": [
    "#using mean function to fil the missing value in 'sex' column\n",
    "df_flight['Arr_hour']=df_flight['Arr_hour'].fillna(df_flight.groupby(\"Origin\")['Arr_hour'].transform(\"mean\"))\n",
    "df_flight['Arr_min']=df_flight['Arr_min'].fillna(df_flight.groupby(\"Origin\")['Arr_min'].transform(\"mean\"))"
   ]
  },
  {
   "cell_type": "code",
   "execution_count": 34,
   "metadata": {},
   "outputs": [
    {
     "data": {
      "text/plain": [
       "Airline           0\n",
       "Origin            0\n",
       "Destination       0\n",
       "Total_Stops       0\n",
       "Price             0\n",
       "Dep_hour          0\n",
       "Dep_min           0\n",
       "Arr_hour          0\n",
       "Arr_min           0\n",
       "Duration_hours    0\n",
       "Duration_mins     0\n",
       "dtype: int64"
      ]
     },
     "execution_count": 34,
     "metadata": {},
     "output_type": "execute_result"
    }
   ],
   "source": [
    "df_flight.isnull().sum()"
   ]
  },
  {
   "cell_type": "markdown",
   "metadata": {
    "collapsed": true
   },
   "source": [
    "### Handling Categorical Data"
   ]
  },
  {
   "cell_type": "code",
   "execution_count": 35,
   "metadata": {},
   "outputs": [],
   "source": [
    "df_flight=pd.get_dummies(df_flight)"
   ]
  },
  {
   "cell_type": "code",
   "execution_count": 36,
   "metadata": {},
   "outputs": [
    {
     "data": {
      "text/html": [
       "<div>\n",
       "<style scoped>\n",
       "    .dataframe tbody tr th:only-of-type {\n",
       "        vertical-align: middle;\n",
       "    }\n",
       "\n",
       "    .dataframe tbody tr th {\n",
       "        vertical-align: top;\n",
       "    }\n",
       "\n",
       "    .dataframe thead th {\n",
       "        text-align: right;\n",
       "    }\n",
       "</style>\n",
       "<table border=\"1\" class=\"dataframe\">\n",
       "  <thead>\n",
       "    <tr style=\"text-align: right;\">\n",
       "      <th></th>\n",
       "      <th>Total_Stops</th>\n",
       "      <th>Price</th>\n",
       "      <th>Dep_hour</th>\n",
       "      <th>Dep_min</th>\n",
       "      <th>Arr_hour</th>\n",
       "      <th>Arr_min</th>\n",
       "      <th>Duration_hours</th>\n",
       "      <th>Duration_mins</th>\n",
       "      <th>Airline_Air Asia</th>\n",
       "      <th>Airline_Air India</th>\n",
       "      <th>Airline_Go First</th>\n",
       "      <th>Airline_IndiGo</th>\n",
       "      <th>Airline_SpiceJet</th>\n",
       "      <th>Airline_TruJet</th>\n",
       "      <th>Airline_Vistara</th>\n",
       "      <th>Origin_Bangalore</th>\n",
       "      <th>Origin_Chennai</th>\n",
       "      <th>Origin_Hyderabad</th>\n",
       "      <th>Origin_Kochi</th>\n",
       "      <th>Origin_Kolkata</th>\n",
       "      <th>Origin_Mumbai</th>\n",
       "      <th>Origin_New Delhi</th>\n",
       "      <th>Origin_Pune</th>\n",
       "      <th>Destination_Ahmedabad</th>\n",
       "      <th>Destination_Bagdogra</th>\n",
       "      <th>Destination_Bangalore</th>\n",
       "      <th>Destination_Chandigarh</th>\n",
       "      <th>Destination_Chennai</th>\n",
       "      <th>Destination_Goa</th>\n",
       "      <th>Destination_Hyderabad</th>\n",
       "      <th>Destination_Indore</th>\n",
       "      <th>Destination_Jammu</th>\n",
       "      <th>Destination_Kochi</th>\n",
       "      <th>Destination_Kolkata</th>\n",
       "      <th>Destination_Mumbai</th>\n",
       "      <th>Destination_Nagpur</th>\n",
       "      <th>Destination_New Delhi</th>\n",
       "      <th>Destination_Pune</th>\n",
       "      <th>Destination_Varanasi</th>\n",
       "      <th>Destination_Visakhapatnam</th>\n",
       "    </tr>\n",
       "  </thead>\n",
       "  <tbody>\n",
       "    <tr>\n",
       "      <th>0</th>\n",
       "      <td>1</td>\n",
       "      <td>2060</td>\n",
       "      <td>15</td>\n",
       "      <td>30</td>\n",
       "      <td>6.0</td>\n",
       "      <td>50.0</td>\n",
       "      <td>1</td>\n",
       "      <td>20</td>\n",
       "      <td>0</td>\n",
       "      <td>0</td>\n",
       "      <td>0</td>\n",
       "      <td>1</td>\n",
       "      <td>0</td>\n",
       "      <td>0</td>\n",
       "      <td>0</td>\n",
       "      <td>0</td>\n",
       "      <td>0</td>\n",
       "      <td>0</td>\n",
       "      <td>0</td>\n",
       "      <td>0</td>\n",
       "      <td>0</td>\n",
       "      <td>1</td>\n",
       "      <td>0</td>\n",
       "      <td>0</td>\n",
       "      <td>0</td>\n",
       "      <td>0</td>\n",
       "      <td>0</td>\n",
       "      <td>0</td>\n",
       "      <td>0</td>\n",
       "      <td>0</td>\n",
       "      <td>0</td>\n",
       "      <td>0</td>\n",
       "      <td>0</td>\n",
       "      <td>0</td>\n",
       "      <td>0</td>\n",
       "      <td>0</td>\n",
       "      <td>0</td>\n",
       "      <td>0</td>\n",
       "      <td>1</td>\n",
       "      <td>0</td>\n",
       "    </tr>\n",
       "    <tr>\n",
       "      <th>1</th>\n",
       "      <td>1</td>\n",
       "      <td>2060</td>\n",
       "      <td>5</td>\n",
       "      <td>5</td>\n",
       "      <td>6.0</td>\n",
       "      <td>30.0</td>\n",
       "      <td>1</td>\n",
       "      <td>25</td>\n",
       "      <td>0</td>\n",
       "      <td>0</td>\n",
       "      <td>0</td>\n",
       "      <td>1</td>\n",
       "      <td>0</td>\n",
       "      <td>0</td>\n",
       "      <td>0</td>\n",
       "      <td>0</td>\n",
       "      <td>0</td>\n",
       "      <td>0</td>\n",
       "      <td>0</td>\n",
       "      <td>0</td>\n",
       "      <td>0</td>\n",
       "      <td>1</td>\n",
       "      <td>0</td>\n",
       "      <td>0</td>\n",
       "      <td>0</td>\n",
       "      <td>0</td>\n",
       "      <td>0</td>\n",
       "      <td>0</td>\n",
       "      <td>0</td>\n",
       "      <td>0</td>\n",
       "      <td>0</td>\n",
       "      <td>0</td>\n",
       "      <td>0</td>\n",
       "      <td>0</td>\n",
       "      <td>0</td>\n",
       "      <td>0</td>\n",
       "      <td>0</td>\n",
       "      <td>0</td>\n",
       "      <td>1</td>\n",
       "      <td>0</td>\n",
       "    </tr>\n",
       "    <tr>\n",
       "      <th>2</th>\n",
       "      <td>2</td>\n",
       "      <td>2060</td>\n",
       "      <td>9</td>\n",
       "      <td>10</td>\n",
       "      <td>0.0</td>\n",
       "      <td>40.0</td>\n",
       "      <td>1</td>\n",
       "      <td>30</td>\n",
       "      <td>0</td>\n",
       "      <td>0</td>\n",
       "      <td>1</td>\n",
       "      <td>0</td>\n",
       "      <td>0</td>\n",
       "      <td>0</td>\n",
       "      <td>0</td>\n",
       "      <td>0</td>\n",
       "      <td>0</td>\n",
       "      <td>0</td>\n",
       "      <td>0</td>\n",
       "      <td>0</td>\n",
       "      <td>0</td>\n",
       "      <td>1</td>\n",
       "      <td>0</td>\n",
       "      <td>0</td>\n",
       "      <td>0</td>\n",
       "      <td>0</td>\n",
       "      <td>0</td>\n",
       "      <td>0</td>\n",
       "      <td>0</td>\n",
       "      <td>0</td>\n",
       "      <td>0</td>\n",
       "      <td>0</td>\n",
       "      <td>0</td>\n",
       "      <td>0</td>\n",
       "      <td>0</td>\n",
       "      <td>0</td>\n",
       "      <td>0</td>\n",
       "      <td>0</td>\n",
       "      <td>1</td>\n",
       "      <td>0</td>\n",
       "    </tr>\n",
       "    <tr>\n",
       "      <th>3</th>\n",
       "      <td>1</td>\n",
       "      <td>2060</td>\n",
       "      <td>17</td>\n",
       "      <td>45</td>\n",
       "      <td>9.0</td>\n",
       "      <td>20.0</td>\n",
       "      <td>1</td>\n",
       "      <td>35</td>\n",
       "      <td>0</td>\n",
       "      <td>0</td>\n",
       "      <td>0</td>\n",
       "      <td>1</td>\n",
       "      <td>0</td>\n",
       "      <td>0</td>\n",
       "      <td>0</td>\n",
       "      <td>0</td>\n",
       "      <td>0</td>\n",
       "      <td>0</td>\n",
       "      <td>0</td>\n",
       "      <td>0</td>\n",
       "      <td>0</td>\n",
       "      <td>1</td>\n",
       "      <td>0</td>\n",
       "      <td>0</td>\n",
       "      <td>0</td>\n",
       "      <td>0</td>\n",
       "      <td>0</td>\n",
       "      <td>0</td>\n",
       "      <td>0</td>\n",
       "      <td>0</td>\n",
       "      <td>0</td>\n",
       "      <td>0</td>\n",
       "      <td>0</td>\n",
       "      <td>0</td>\n",
       "      <td>0</td>\n",
       "      <td>0</td>\n",
       "      <td>0</td>\n",
       "      <td>0</td>\n",
       "      <td>1</td>\n",
       "      <td>0</td>\n",
       "    </tr>\n",
       "    <tr>\n",
       "      <th>4</th>\n",
       "      <td>1</td>\n",
       "      <td>2068</td>\n",
       "      <td>17</td>\n",
       "      <td>30</td>\n",
       "      <td>9.0</td>\n",
       "      <td>0.0</td>\n",
       "      <td>1</td>\n",
       "      <td>30</td>\n",
       "      <td>0</td>\n",
       "      <td>0</td>\n",
       "      <td>0</td>\n",
       "      <td>0</td>\n",
       "      <td>1</td>\n",
       "      <td>0</td>\n",
       "      <td>0</td>\n",
       "      <td>0</td>\n",
       "      <td>0</td>\n",
       "      <td>0</td>\n",
       "      <td>0</td>\n",
       "      <td>0</td>\n",
       "      <td>0</td>\n",
       "      <td>1</td>\n",
       "      <td>0</td>\n",
       "      <td>0</td>\n",
       "      <td>0</td>\n",
       "      <td>0</td>\n",
       "      <td>0</td>\n",
       "      <td>0</td>\n",
       "      <td>0</td>\n",
       "      <td>0</td>\n",
       "      <td>0</td>\n",
       "      <td>0</td>\n",
       "      <td>0</td>\n",
       "      <td>0</td>\n",
       "      <td>0</td>\n",
       "      <td>0</td>\n",
       "      <td>0</td>\n",
       "      <td>0</td>\n",
       "      <td>1</td>\n",
       "      <td>0</td>\n",
       "    </tr>\n",
       "  </tbody>\n",
       "</table>\n",
       "</div>"
      ],
      "text/plain": [
       "   Total_Stops  Price  Dep_hour  Dep_min  Arr_hour  Arr_min  Duration_hours  \\\n",
       "0            1   2060        15       30       6.0     50.0               1   \n",
       "1            1   2060         5        5       6.0     30.0               1   \n",
       "2            2   2060         9       10       0.0     40.0               1   \n",
       "3            1   2060        17       45       9.0     20.0               1   \n",
       "4            1   2068        17       30       9.0      0.0               1   \n",
       "\n",
       "   Duration_mins  Airline_Air Asia  Airline_Air India  Airline_Go First  \\\n",
       "0             20                 0                  0                 0   \n",
       "1             25                 0                  0                 0   \n",
       "2             30                 0                  0                 1   \n",
       "3             35                 0                  0                 0   \n",
       "4             30                 0                  0                 0   \n",
       "\n",
       "   Airline_IndiGo  Airline_SpiceJet  Airline_TruJet  Airline_Vistara  \\\n",
       "0               1                 0               0                0   \n",
       "1               1                 0               0                0   \n",
       "2               0                 0               0                0   \n",
       "3               1                 0               0                0   \n",
       "4               0                 1               0                0   \n",
       "\n",
       "   Origin_Bangalore  Origin_Chennai  Origin_Hyderabad  Origin_Kochi  \\\n",
       "0                 0               0                 0             0   \n",
       "1                 0               0                 0             0   \n",
       "2                 0               0                 0             0   \n",
       "3                 0               0                 0             0   \n",
       "4                 0               0                 0             0   \n",
       "\n",
       "   Origin_Kolkata  Origin_Mumbai  Origin_New Delhi  Origin_Pune  \\\n",
       "0               0              0                 1            0   \n",
       "1               0              0                 1            0   \n",
       "2               0              0                 1            0   \n",
       "3               0              0                 1            0   \n",
       "4               0              0                 1            0   \n",
       "\n",
       "   Destination_Ahmedabad  Destination_Bagdogra  Destination_Bangalore  \\\n",
       "0                      0                     0                      0   \n",
       "1                      0                     0                      0   \n",
       "2                      0                     0                      0   \n",
       "3                      0                     0                      0   \n",
       "4                      0                     0                      0   \n",
       "\n",
       "   Destination_Chandigarh  Destination_Chennai  Destination_Goa  \\\n",
       "0                       0                    0                0   \n",
       "1                       0                    0                0   \n",
       "2                       0                    0                0   \n",
       "3                       0                    0                0   \n",
       "4                       0                    0                0   \n",
       "\n",
       "   Destination_Hyderabad  Destination_Indore  Destination_Jammu  \\\n",
       "0                      0                   0                  0   \n",
       "1                      0                   0                  0   \n",
       "2                      0                   0                  0   \n",
       "3                      0                   0                  0   \n",
       "4                      0                   0                  0   \n",
       "\n",
       "   Destination_Kochi  Destination_Kolkata  Destination_Mumbai  \\\n",
       "0                  0                    0                   0   \n",
       "1                  0                    0                   0   \n",
       "2                  0                    0                   0   \n",
       "3                  0                    0                   0   \n",
       "4                  0                    0                   0   \n",
       "\n",
       "   Destination_Nagpur  Destination_New Delhi  Destination_Pune  \\\n",
       "0                   0                      0                 0   \n",
       "1                   0                      0                 0   \n",
       "2                   0                      0                 0   \n",
       "3                   0                      0                 0   \n",
       "4                   0                      0                 0   \n",
       "\n",
       "   Destination_Varanasi  Destination_Visakhapatnam  \n",
       "0                     1                          0  \n",
       "1                     1                          0  \n",
       "2                     1                          0  \n",
       "3                     1                          0  \n",
       "4                     1                          0  "
      ]
     },
     "execution_count": 36,
     "metadata": {},
     "output_type": "execute_result"
    }
   ],
   "source": [
    "pd.set_option('display.max_columns',100)\n",
    "df_flight.head()"
   ]
  },
  {
   "cell_type": "markdown",
   "metadata": {
    "collapsed": true
   },
   "source": [
    "### Feature Selection "
   ]
  },
  {
   "cell_type": "markdown",
   "metadata": {
    "collapsed": true
   },
   "source": [
    "Finding out the best feature which will contribute and have good relation with target variable. Following are some of the feature selection methods,\n",
    "\n"
   ]
  },
  {
   "cell_type": "code",
   "execution_count": 37,
   "metadata": {},
   "outputs": [
    {
     "data": {
      "text/plain": [
       "Index(['Total_Stops', 'Price', 'Dep_hour', 'Dep_min', 'Arr_hour', 'Arr_min',\n",
       "       'Duration_hours', 'Duration_mins', 'Airline_Air Asia',\n",
       "       'Airline_Air India', 'Airline_Go First', 'Airline_IndiGo',\n",
       "       'Airline_SpiceJet', 'Airline_TruJet', 'Airline_Vistara',\n",
       "       'Origin_Bangalore', 'Origin_Chennai', 'Origin_Hyderabad',\n",
       "       'Origin_Kochi', 'Origin_Kolkata', 'Origin_Mumbai', 'Origin_New Delhi',\n",
       "       'Origin_Pune', 'Destination_Ahmedabad', 'Destination_Bagdogra',\n",
       "       'Destination_Bangalore', 'Destination_Chandigarh',\n",
       "       'Destination_Chennai', 'Destination_Goa', 'Destination_Hyderabad',\n",
       "       'Destination_Indore', 'Destination_Jammu', 'Destination_Kochi',\n",
       "       'Destination_Kolkata', 'Destination_Mumbai', 'Destination_Nagpur',\n",
       "       'Destination_New Delhi', 'Destination_Pune', 'Destination_Varanasi',\n",
       "       'Destination_Visakhapatnam'],\n",
       "      dtype='object')"
      ]
     },
     "execution_count": 37,
     "metadata": {},
     "output_type": "execute_result"
    }
   ],
   "source": [
    "df_flight.columns"
   ]
  },
  {
   "cell_type": "code",
   "execution_count": 38,
   "metadata": {},
   "outputs": [],
   "source": [
    "df_columns = df_flight[['Total_Stops', 'Price', 'Dep_hour', 'Dep_min', 'Arr_hour', 'Arr_min',\n",
    "       'Duration_hours', 'Duration_mins']]"
   ]
  },
  {
   "cell_type": "code",
   "execution_count": 39,
   "metadata": {},
   "outputs": [
    {
     "data": {
      "text/html": [
       "<div>\n",
       "<style scoped>\n",
       "    .dataframe tbody tr th:only-of-type {\n",
       "        vertical-align: middle;\n",
       "    }\n",
       "\n",
       "    .dataframe tbody tr th {\n",
       "        vertical-align: top;\n",
       "    }\n",
       "\n",
       "    .dataframe thead th {\n",
       "        text-align: right;\n",
       "    }\n",
       "</style>\n",
       "<table border=\"1\" class=\"dataframe\">\n",
       "  <thead>\n",
       "    <tr style=\"text-align: right;\">\n",
       "      <th></th>\n",
       "      <th>Total_Stops</th>\n",
       "      <th>Price</th>\n",
       "      <th>Dep_hour</th>\n",
       "      <th>Dep_min</th>\n",
       "      <th>Arr_hour</th>\n",
       "      <th>Arr_min</th>\n",
       "      <th>Duration_hours</th>\n",
       "      <th>Duration_mins</th>\n",
       "    </tr>\n",
       "  </thead>\n",
       "  <tbody>\n",
       "    <tr>\n",
       "      <th>0</th>\n",
       "      <td>1</td>\n",
       "      <td>2060</td>\n",
       "      <td>15</td>\n",
       "      <td>30</td>\n",
       "      <td>6.0</td>\n",
       "      <td>50.0</td>\n",
       "      <td>1</td>\n",
       "      <td>20</td>\n",
       "    </tr>\n",
       "    <tr>\n",
       "      <th>1</th>\n",
       "      <td>1</td>\n",
       "      <td>2060</td>\n",
       "      <td>5</td>\n",
       "      <td>5</td>\n",
       "      <td>6.0</td>\n",
       "      <td>30.0</td>\n",
       "      <td>1</td>\n",
       "      <td>25</td>\n",
       "    </tr>\n",
       "    <tr>\n",
       "      <th>2</th>\n",
       "      <td>2</td>\n",
       "      <td>2060</td>\n",
       "      <td>9</td>\n",
       "      <td>10</td>\n",
       "      <td>0.0</td>\n",
       "      <td>40.0</td>\n",
       "      <td>1</td>\n",
       "      <td>30</td>\n",
       "    </tr>\n",
       "    <tr>\n",
       "      <th>3</th>\n",
       "      <td>1</td>\n",
       "      <td>2060</td>\n",
       "      <td>17</td>\n",
       "      <td>45</td>\n",
       "      <td>9.0</td>\n",
       "      <td>20.0</td>\n",
       "      <td>1</td>\n",
       "      <td>35</td>\n",
       "    </tr>\n",
       "    <tr>\n",
       "      <th>4</th>\n",
       "      <td>1</td>\n",
       "      <td>2068</td>\n",
       "      <td>17</td>\n",
       "      <td>30</td>\n",
       "      <td>9.0</td>\n",
       "      <td>0.0</td>\n",
       "      <td>1</td>\n",
       "      <td>30</td>\n",
       "    </tr>\n",
       "  </tbody>\n",
       "</table>\n",
       "</div>"
      ],
      "text/plain": [
       "   Total_Stops  Price  Dep_hour  Dep_min  Arr_hour  Arr_min  Duration_hours  \\\n",
       "0            1   2060        15       30       6.0     50.0               1   \n",
       "1            1   2060         5        5       6.0     30.0               1   \n",
       "2            2   2060         9       10       0.0     40.0               1   \n",
       "3            1   2060        17       45       9.0     20.0               1   \n",
       "4            1   2068        17       30       9.0      0.0               1   \n",
       "\n",
       "   Duration_mins  \n",
       "0             20  \n",
       "1             25  \n",
       "2             30  \n",
       "3             35  \n",
       "4             30  "
      ]
     },
     "execution_count": 39,
     "metadata": {},
     "output_type": "execute_result"
    }
   ],
   "source": [
    "df_columns.head()"
   ]
  },
  {
   "cell_type": "code",
   "execution_count": 40,
   "metadata": {},
   "outputs": [
    {
     "data": {
      "image/png": "[encoded data removed]",
      "text/plain": [
       "<Figure size 864x864 with 2 Axes>"
      ]
     },
     "metadata": {},
     "output_type": "display_data"
    }
   ],
   "source": [
    "# Finds correlation between Independent and dependent attributes\n",
    "plt.figure(figsize = (12,12))\n",
    "sns.heatmap(df_columns.corr(), annot = True, cmap = \"RdYlGn\")\n",
    "\n",
    "plt.show()"
   ]
  },
  {
   "cell_type": "code",
   "execution_count": 41,
   "metadata": {},
   "outputs": [],
   "source": [
    "x = df_flight[['Total_Stops', 'Dep_hour', 'Dep_min', 'Arr_hour', 'Arr_min',\n",
    "       'Duration_hours', 'Duration_mins', 'Airline_Air Asia',\n",
    "       'Airline_Air India', 'Airline_Go First', 'Airline_IndiGo',\n",
    "       'Airline_SpiceJet', 'Airline_TruJet', 'Airline_Vistara',\n",
    "       'Origin_Bangalore', 'Origin_Chennai', 'Origin_Hyderabad',\n",
    "       'Origin_Kochi', 'Origin_Kolkata', 'Origin_Mumbai', 'Origin_New Delhi',\n",
    "       'Origin_Pune', 'Destination_Ahmedabad', 'Destination_Bagdogra',\n",
    "       'Destination_Bangalore', 'Destination_Chandigarh',\n",
    "       'Destination_Chennai', 'Destination_Goa', 'Destination_Hyderabad',\n",
    "       'Destination_Indore', 'Destination_Jammu', 'Destination_Kochi',\n",
    "       'Destination_Kolkata', 'Destination_Mumbai', 'Destination_Nagpur',\n",
    "       'Destination_New Delhi', 'Destination_Pune', 'Destination_Varanasi',\n",
    "       'Destination_Visakhapatnam']]\n",
    "\n",
    "\n",
    "y = df_flight['Price']"
   ]
  },
  {
   "cell_type": "code",
   "execution_count": 42,
   "metadata": {},
   "outputs": [
    {
     "data": {
      "text/plain": [
       "ExtraTreesRegressor()"
      ]
     },
     "execution_count": 42,
     "metadata": {},
     "output_type": "execute_result"
    }
   ],
   "source": [
    "# Important feature using ExtraTreesRegressor\n",
    "from sklearn.ensemble import ExtraTreesRegressor\n",
    "selection = ExtraTreesRegressor()\n",
    "selection.fit(x, y)"
   ]
  },
  {
   "cell_type": "code",
   "execution_count": 43,
   "metadata": {},
   "outputs": [
    {
     "name": "stdout",
     "output_type": "stream",
     "text": [
      "[2.77070159e-02 1.90464215e-02 2.50664240e-02 2.48610026e-02\n",
      " 2.46169805e-02 1.81469097e-01 2.24968578e-02 3.48177038e-03\n",
      " 1.46976296e-01 8.46018990e-03 1.76691741e-02 1.97969910e-03\n",
      " 2.40296461e-04 1.27444947e-01 7.64456340e-03 1.31720646e-02\n",
      " 7.97983602e-03 1.11861587e-02 3.80266518e-02 1.65209678e-02\n",
      " 2.12760987e-02 3.10244842e-03 4.46469274e-02 1.28630790e-04\n",
      " 2.32099984e-03 1.23574951e-03 2.74755439e-02 1.14298383e-02\n",
      " 8.70119533e-03 2.84367558e-03 4.33078263e-03 2.92384619e-02\n",
      " 8.57543188e-05 1.25533482e-03 1.95870648e-02 2.74072227e-02\n",
      " 1.56039490e-03 1.49480171e-02 5.23794447e-02]\n"
     ]
    }
   ],
   "source": [
    "print(selection.feature_importances_)"
   ]
  },
  {
   "cell_type": "code",
   "execution_count": 44,
   "metadata": {},
   "outputs": [
    {
     "data": {
      "image/png": "[encoded data removed]",
      "text/plain": [
       "<Figure size 864x576 with 1 Axes>"
      ]
     },
     "metadata": {},
     "output_type": "display_data"
    }
   ],
   "source": [
    "#plot graph of feature importances for better visualization\n",
    "\n",
    "plt.figure(figsize = (12,8))\n",
    "feat_importances = pd.Series(selection.feature_importances_, index=x.columns)\n",
    "feat_importances.nlargest(20).plot(kind='barh')\n",
    "plt.show()"
   ]
  },
  {
   "cell_type": "markdown",
   "metadata": {},
   "source": [
    "### Model Building"
   ]
  },
  {
   "cell_type": "code",
   "execution_count": 45,
   "metadata": {},
   "outputs": [],
   "source": [
    "from sklearn.model_selection import train_test_split\n",
    "from sklearn.linear_model import LinearRegression\n",
    "from sklearn.neighbors import KNeighborsRegressor\n",
    "from sklearn.tree import DecisionTreeRegressor\n",
    "from sklearn.ensemble import RandomForestRegressor\n",
    "from sklearn.ensemble import AdaBoostRegressor\n",
    "from sklearn.svm import SVR\n",
    "from sklearn.ensemble import GradientBoostingRegressor\n",
    "from xgboost import XGBRegressor"
   ]
  },
  {
   "cell_type": "code",
   "execution_count": 95,
   "metadata": {},
   "outputs": [],
   "source": [
    "X = df_flight.drop(['Price'],axis=1)\n",
    "y= df_flight['Price']"
   ]
  },
  {
   "cell_type": "code",
   "execution_count": 96,
   "metadata": {},
   "outputs": [
    {
     "name": "stdout",
     "output_type": "stream",
     "text": [
      "(1562, 39)\n",
      "(1562,)\n"
     ]
    }
   ],
   "source": [
    "print(X.shape)\n",
    "print(y.shape)"
   ]
  },
  {
   "cell_type": "code",
   "execution_count": 97,
   "metadata": {},
   "outputs": [],
   "source": [
    "from sklearn.preprocessing import StandardScaler\n",
    "scaler = StandardScaler()\n",
    "x_scale = scaler.fit_transform(X)"
   ]
  },
  {
   "cell_type": "code",
   "execution_count": 98,
   "metadata": {},
   "outputs": [
    {
     "data": {
      "text/plain": [
       "array([[-0.21760653,  0.41792969,  0.19809389, ..., -0.14462031,\n",
       "         5.7407771 , -0.21982299],\n",
       "       [-0.21760653, -1.37107051, -1.20582016, ..., -0.14462031,\n",
       "         5.7407771 , -0.21982299],\n",
       "       [ 1.55271325, -0.65547043, -0.92503735, ..., -0.14462031,\n",
       "         5.7407771 , -0.21982299],\n",
       "       ...,\n",
       "       [-0.21760653, -0.47657041, -0.08268892, ..., -0.14462031,\n",
       "        -0.17419245, -0.21982299],\n",
       "       [-0.21760653, -0.47657041, -0.08268892, ..., -0.14462031,\n",
       "        -0.17419245, -0.21982299],\n",
       "       [-0.21760653, -0.47657041, -0.08268892, ..., -0.14462031,\n",
       "        -0.17419245, -0.21982299]])"
      ]
     },
     "execution_count": 98,
     "metadata": {},
     "output_type": "execute_result"
    }
   ],
   "source": [
    "x_scale"
   ]
  },
  {
   "cell_type": "code",
   "execution_count": 99,
   "metadata": {},
   "outputs": [],
   "source": [
    "# from sklearn.decomposition import PCA\n",
    "# pca = PCA(0.95)\n",
    "# x_pca = pca.fit_transform(X)"
   ]
  },
  {
   "cell_type": "code",
   "execution_count": 100,
   "metadata": {},
   "outputs": [],
   "source": [
    "# x_pca.shape"
   ]
  },
  {
   "cell_type": "code",
   "execution_count": 101,
   "metadata": {},
   "outputs": [],
   "source": [
    "# pca.explained_variance_ratio_\n",
    "# #pca.n_components_"
   ]
  },
  {
   "cell_type": "code",
   "execution_count": 109,
   "metadata": {},
   "outputs": [],
   "source": [
    "X_train, X_test, y_train, y_test  = train_test_split(x_scale, y, test_size=0.30,random_state=42)"
   ]
  },
  {
   "cell_type": "code",
   "execution_count": 110,
   "metadata": {},
   "outputs": [
    {
     "name": "stdout",
     "output_type": "stream",
     "text": [
      "Model is created\n"
     ]
    }
   ],
   "source": [
    "lr=LinearRegression()\n",
    "knn=KNeighborsRegressor()\n",
    "dt=DecisionTreeRegressor()\n",
    "rf=RandomForestRegressor()\n",
    "adb=AdaBoostRegressor()\n",
    "svm=SVR()\n",
    "gboost=GradientBoostingRegressor()\n",
    "xgboost=XGBRegressor()\n",
    "print(\"Model is created\")"
   ]
  },
  {
   "cell_type": "code",
   "execution_count": 111,
   "metadata": {},
   "outputs": [
    {
     "name": "stdout",
     "output_type": "stream",
     "text": [
      "Model is trained\n"
     ]
    }
   ],
   "source": [
    "lr.fit(X_train, y_train)\n",
    "knn.fit(X_train, y_train)\n",
    "dt.fit(X_train, y_train)\n",
    "rf.fit(X_train, y_train)\n",
    "adb.fit(X_train, y_train)\n",
    "svm.fit(X_train, y_train)\n",
    "gboost.fit(X_train, y_train)\n",
    "xgboost.fit(X_train, y_train)\n",
    "print(\"Model is trained\")"
   ]
  },
  {
   "cell_type": "code",
   "execution_count": 112,
   "metadata": {},
   "outputs": [
    {
     "name": "stdout",
     "output_type": "stream",
     "text": [
      "lr_score 0.6545256430920336\n",
      "knn_score 0.7983554177227351\n",
      "dt_score 0.9999524243951425\n",
      "rf_score 0.97693206560485\n",
      "adb_score 0.5856223329669882\n",
      "svm_score -0.022058439806933006\n",
      "gboost_score 0.8215614421496338\n",
      "xgboost_score 0.9974358831133999\n"
     ]
    }
   ],
   "source": [
    "print(\"lr_score\",lr.score(X_train, y_train))\n",
    "print(\"knn_score\",knn.score(X_train, y_train))\n",
    "print(\"dt_score\",dt.score(X_train, y_train))\n",
    "print(\"rf_score\",rf.score(X_train, y_train))\n",
    "print(\"adb_score\",adb.score(X_train, y_train))\n",
    "print(\"svm_score\",svm.score(X_train, y_train))\n",
    "print(\"gboost_score\",gboost.score(X_train, y_train))\n",
    "print(\"xgboost_score\",xgboost.score(X_train, y_train))"
   ]
  },
  {
   "cell_type": "markdown",
   "metadata": {},
   "source": [
    "### Model Evaluation"
   ]
  },
  {
   "cell_type": "code",
   "execution_count": 113,
   "metadata": {},
   "outputs": [],
   "source": [
    "from sklearn.metrics import mean_absolute_error,mean_squared_error"
   ]
  },
  {
   "cell_type": "code",
   "execution_count": 114,
   "metadata": {},
   "outputs": [],
   "source": [
    "lr_pred_y = lr.predict(X_test)\n",
    "knn_pred_y = knn.predict(X_test)\n",
    "dt_pred_y = dt.predict(X_test)\n",
    "rf_pred_y = rf.predict(X_test)\n",
    "adb_pred_y = adb.predict(X_test)\n",
    "svm_pred_y = svm.predict(X_test)\n",
    "gboost_pred_y = svm.predict(X_test)\n",
    "xgboost_pred_y = svm.predict(X_test)"
   ]
  },
  {
   "cell_type": "code",
   "execution_count": 115,
   "metadata": {},
   "outputs": [
    {
     "name": "stdout",
     "output_type": "stream",
     "text": [
      "lr_score 1.7037812648936504e+34\n",
      "knn_score 2260411.2698507463\n",
      "dt_score 2478340.4946695096\n",
      "rf_score 1498075.2163815699\n",
      "adb_score 3310945.0891640517\n",
      "svm_score 7868798.934144937\n",
      "gboost_score 7868798.934144937\n",
      "xgboost_score 7868798.934144937\n"
     ]
    }
   ],
   "source": [
    "print(\"lr_score\",mean_squared_error(y_test,lr_pred_y))\n",
    "print(\"knn_score\",mean_squared_error(y_test,knn_pred_y))\n",
    "print(\"dt_score\",mean_squared_error(y_test,dt_pred_y))\n",
    "print(\"rf_score\",mean_squared_error(y_test,rf_pred_y))\n",
    "print(\"adb_score\",mean_squared_error(y_test,adb_pred_y))\n",
    "print(\"svm_score\",mean_squared_error(y_test,svm_pred_y))\n",
    "print(\"gboost_score\",mean_squared_error(y_test,gboost_pred_y))\n",
    "print(\"xgboost_score\",mean_squared_error(y_test,xgboost_pred_y))"
   ]
  },
  {
   "cell_type": "markdown",
   "metadata": {},
   "source": [
    "### Cross validation:"
   ]
  },
  {
   "cell_type": "code",
   "execution_count": 118,
   "metadata": {},
   "outputs": [
    {
     "data": {
      "text/plain": [
       "KFold(n_splits=5, random_state=None, shuffle=True)"
      ]
     },
     "execution_count": 118,
     "metadata": {},
     "output_type": "execute_result"
    }
   ],
   "source": [
    "from sklearn.model_selection import KFold,cross_val_score\n",
    "k_f = KFold(n_splits=5,shuffle=True)\n",
    "k_f"
   ]
  },
  {
   "cell_type": "code",
   "execution_count": 119,
   "metadata": {},
   "outputs": [
    {
     "name": "stdout",
     "output_type": "stream",
     "text": [
      "Cross validation score for lr model => 0.16195505955216938\n",
      "Cross validation score for knn model => -0.12016245152150842\n",
      "Cross validation score for dt model => 0.09399392580193404\n",
      "Cross validation score for rf model => 0.4023648404733654\n",
      "Cross validation score for adb model => 0.3289283108437268\n",
      "Cross validation score for svm model => -0.12340830350876501\n",
      "Cross validation score for gboost model => 0.42984343393611\n",
      "Cross validation score for xgboost model => 0.3931434961697732\n"
     ]
    }
   ],
   "source": [
    "print(\"Cross validation score for lr model\",\"=>\",cross_val_score(lr,X,y,cv=5).mean())\n",
    "print(\"Cross validation score for knn model\",\"=>\",cross_val_score(knn,X,y,cv=5).mean())\n",
    "print(\"Cross validation score for dt model\",\"=>\",cross_val_score(dt,X,y,cv=5).mean())\n",
    "print(\"Cross validation score for rf model\",\"=>\",cross_val_score(rf,X,y,cv=5).mean())\n",
    "print(\"Cross validation score for adb model\",\"=>\",cross_val_score(adb,X,y,cv=5).mean())\n",
    "print(\"Cross validation score for svm model\",\"=>\",cross_val_score(svm,X,y,cv=5).mean())\n",
    "print(\"Cross validation score for gboost model\",\"=>\",cross_val_score(gboost,X,y,cv=5).mean())\n",
    "print(\"Cross validation score for xgboost model\",\"=>\",cross_val_score(xgboost,X,y,cv=5).mean())"
   ]
  },
  {
   "cell_type": "markdown",
   "metadata": {},
   "source": [
    "### HyperParameter Tuning :"
   ]
  },
  {
   "cell_type": "code",
   "execution_count": 120,
   "metadata": {},
   "outputs": [],
   "source": [
    "from sklearn.model_selection import GridSearchCV"
   ]
  },
  {
   "cell_type": "code",
   "execution_count": 121,
   "metadata": {},
   "outputs": [
    {
     "data": {
      "text/plain": [
       "dict_keys(['ccp_alpha', 'criterion', 'max_depth', 'max_features', 'max_leaf_nodes', 'min_impurity_decrease', 'min_impurity_split', 'min_samples_leaf', 'min_samples_split', 'min_weight_fraction_leaf', 'random_state', 'splitter'])"
      ]
     },
     "execution_count": 121,
     "metadata": {},
     "output_type": "execute_result"
    }
   ],
   "source": [
    "dt.get_params().keys()  # to check the parameters"
   ]
  },
  {
   "cell_type": "code",
   "execution_count": 122,
   "metadata": {},
   "outputs": [
    {
     "data": {
      "text/plain": [
       "{'criterion': ['squared_error', 'friedman_mse', 'absolute_error', 'poisson'],\n",
       " 'splitter': ['best', 'random'],\n",
       " 'max_depth': [10, 20, 30, 40, 50],\n",
       " 'min_samples_split': [2, 3, 4, 5],\n",
       " 'min_samples_leaf': [2, 4, 5],\n",
       " 'max_features': ['auto', 'sqrt', 'log2'],\n",
       " 'max_leaf_nodes': [10, 20, 30, 40]}"
      ]
     },
     "execution_count": 122,
     "metadata": {},
     "output_type": "execute_result"
    }
   ],
   "source": [
    "param_grid = {'criterion':['squared_error', 'friedman_mse', 'absolute_error','poisson'],\n",
    "              'splitter' : ['best','random'],'max_depth':[10,20,30,40,50],\n",
    "              'min_samples_split' : [2,3,4,5],'min_samples_leaf': [2,4,5],\n",
    "              'max_features':['auto','sqrt','log2'],'max_leaf_nodes' : [10,20,30,40]}\n",
    "param_grid"
   ]
  },
  {
   "cell_type": "code",
   "execution_count": 123,
   "metadata": {},
   "outputs": [],
   "source": [
    "gridsearch = GridSearchCV(dt,param_grid = param_grid,cv=5,verbose = 2 ,n_jobs =5)"
   ]
  },
  {
   "cell_type": "code",
   "execution_count": 124,
   "metadata": {},
   "outputs": [
    {
     "name": "stdout",
     "output_type": "stream",
     "text": [
      "Fitting 5 folds for each of 5760 candidates, totalling 28800 fits\n"
     ]
    },
    {
     "data": {
      "text/plain": [
       "GridSearchCV(cv=5, estimator=DecisionTreeRegressor(), n_jobs=5,\n",
       "             param_grid={'criterion': ['squared_error', 'friedman_mse',\n",
       "                                       'absolute_error', 'poisson'],\n",
       "                         'max_depth': [10, 20, 30, 40, 50],\n",
       "                         'max_features': ['auto', 'sqrt', 'log2'],\n",
       "                         'max_leaf_nodes': [10, 20, 30, 40],\n",
       "                         'min_samples_leaf': [2, 4, 5],\n",
       "                         'min_samples_split': [2, 3, 4, 5],\n",
       "                         'splitter': ['best', 'random']},\n",
       "             verbose=2)"
      ]
     },
     "execution_count": 124,
     "metadata": {},
     "output_type": "execute_result"
    }
   ],
   "source": [
    "gridsearch.fit(X_train,y_train) #hyper tuing for \"Next_Tmax\" label"
   ]
  },
  {
   "cell_type": "code",
   "execution_count": 125,
   "metadata": {},
   "outputs": [
    {
     "data": {
      "text/plain": [
       "{'criterion': 'friedman_mse',\n",
       " 'max_depth': 50,\n",
       " 'max_features': 'auto',\n",
       " 'max_leaf_nodes': 40,\n",
       " 'min_samples_leaf': 4,\n",
       " 'min_samples_split': 3,\n",
       " 'splitter': 'random'}"
      ]
     },
     "execution_count": 125,
     "metadata": {},
     "output_type": "execute_result"
    }
   ],
   "source": [
    "gridsearch.best_params_"
   ]
  },
  {
   "cell_type": "code",
   "execution_count": 128,
   "metadata": {},
   "outputs": [],
   "source": [
    "dt_hpy_tuning=DecisionTreeRegressor(criterion= 'friedman_mse',\n",
    " max_depth= 50,\n",
    " max_features='auto',\n",
    " max_leaf_nodes= 40,\n",
    " min_samples_leaf= 4,\n",
    " min_samples_split= 3,\n",
    " splitter= 'random')"
   ]
  },
  {
   "cell_type": "code",
   "execution_count": 129,
   "metadata": {},
   "outputs": [
    {
     "data": {
      "text/plain": [
       "DecisionTreeRegressor(criterion='friedman_mse', max_depth=50,\n",
       "                      max_features='auto', max_leaf_nodes=40,\n",
       "                      min_samples_leaf=4, min_samples_split=3,\n",
       "                      splitter='random')"
      ]
     },
     "execution_count": 129,
     "metadata": {},
     "output_type": "execute_result"
    }
   ],
   "source": [
    "dt_hpy_tuning.fit(X_train, y_train)"
   ]
  },
  {
   "cell_type": "code",
   "execution_count": 135,
   "metadata": {},
   "outputs": [
    {
     "data": {
      "text/plain": [
       "0.7699103174367988"
      ]
     },
     "execution_count": 135,
     "metadata": {},
     "output_type": "execute_result"
    }
   ],
   "source": [
    "dt_hpy_tuning.score(X_train, y_train)"
   ]
  },
  {
   "cell_type": "code",
   "execution_count": 136,
   "metadata": {},
   "outputs": [],
   "source": [
    "y_pred_dt = dt_hpy_tuning.predict(X_test)"
   ]
  },
  {
   "cell_type": "code",
   "execution_count": 137,
   "metadata": {},
   "outputs": [
    {
     "data": {
      "text/plain": [
       "2378954.8716015876"
      ]
     },
     "execution_count": 137,
     "metadata": {},
     "output_type": "execute_result"
    }
   ],
   "source": [
    "mean_squared_error(y_test,y_pred_dt)"
   ]
  },
  {
   "cell_type": "markdown",
   "metadata": {},
   "source": [
    "As observed i am getting almost same accuarcy with or without hyperparameter tuing.so saving model both models without hypermeter tuning."
   ]
  },
  {
   "cell_type": "markdown",
   "metadata": {},
   "source": [
    "### Model saving"
   ]
  },
  {
   "cell_type": "code",
   "execution_count": 138,
   "metadata": {},
   "outputs": [],
   "source": [
    "import pickle"
   ]
  },
  {
   "cell_type": "code",
   "execution_count": 139,
   "metadata": {},
   "outputs": [],
   "source": [
    "Flight_price = 'Flight_price.pickle'"
   ]
  },
  {
   "cell_type": "code",
   "execution_count": 140,
   "metadata": {},
   "outputs": [],
   "source": [
    "pickle.dump(dt,open(Flight_price,'wb'))"
   ]
  }
 ],
 "metadata": {
  "kernelspec": {
   "display_name": "Python 3",
   "language": "python",
   "name": "python3"
  },
  "language_info": {
   "codemirror_mode": {
    "name": "ipython",
    "version": 3
   },
   "file_extension": ".py",
   "mimetype": "text/x-python",
   "name": "python",
   "nbconvert_exporter": "python",
   "pygments_lexer": "ipython3",
   "version": "3.8.3"
  }
 },
 "nbformat": 4,
 "nbformat_minor": 4
}
